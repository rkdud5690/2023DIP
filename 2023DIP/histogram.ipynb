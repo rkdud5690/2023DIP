{
 "cells": [
  {
   "cell_type": "markdown",
   "metadata": {},
   "source": [
    "## histogram 비교 함수\n",
    "\n",
    "`cv2.compareHist(hist1, hist2, method)`\n",
    "\n",
    "* `hist1`과 `hist2`는 비교할 두 histogram\n",
    "\n",
    "* `method`\n",
    "1. <cv2.HISTCMP_CORREL>: 두 histogram의 상관관계\n",
    "\n",
    "     1: 완전일치, -1: 완전 불일치, 0: 무관계\n",
    "\n",
    "2. <cv2.HISTCMP_CHISQR>: 카이제곱 검정(Chi-Squared Test)\n",
    "\n",
    "    0: 완전 일치, 무한대: 완전 불일치\n",
    "\n",
    "3. <cv2.HISTCMP_INTERSECT> : 교차\n",
    "\n",
    "    1: 완전 일치, 0: 완전 불일치(histogram이 1로 normalize된 경우)\n",
    "\n",
    "4. <cv2.HISTCMP_BHATTACHARYYA>: 바타차야 거리\n",
    "\n",
    "    0: 완전 일치, 1: 완전 불일치"
   ]
  },
  {
   "cell_type": "code",
   "execution_count": 6,
   "metadata": {},
   "outputs": [
    {
     "name": "stdout",
     "output_type": "stream",
     "text": [
      "0\n",
      "1\n",
      "2\n",
      "3\n"
     ]
    }
   ],
   "source": [
    "import cv2\n",
    "\n",
    "print(cv2.HISTCMP_CORREL)\n",
    "print(cv2.HISTCMP_CHISQR)\n",
    "print(cv2.HISTCMP_INTERSECT)\n",
    "print(cv2.HISTCMP_BHATTACHARYYA)"
   ]
  },
  {
   "attachments": {},
   "cell_type": "markdown",
   "metadata": {},
   "source": [
    "각 method는 위와 같이 numbering이 돼 있어 method 파라미터에 해당하는 숫자를 전달해도 무관. (enumtype)"
   ]
  },
  {
   "attachments": {},
   "cell_type": "markdown",
   "metadata": {},
   "source": [
    "## 예시"
   ]
  },
  {
   "attachments": {},
   "cell_type": "markdown",
   "metadata": {},
   "source": [
    "`1. 같은 이미지를 flip한 후 비교`"
   ]
  },
  {
   "cell_type": "code",
   "execution_count": 34,
   "metadata": {},
   "outputs": [],
   "source": [
    "img = cv2.imread('./image/quokka.jpg', cv2.IMREAD_COLOR)\n",
    "img= cv2.resize(img, (256,256))\n",
    "img_1 = cv2.flip(img, 1) # 이미지 상하 반전\n",
    "\n",
    "cv2.imshow('img',img)\n",
    "cv2.imshow('img_1',img_1)\n",
    "cv2.waitKey(0)\n",
    "cv2.destroyAllWindows()"
   ]
  },
  {
   "cell_type": "code",
   "execution_count": 35,
   "metadata": {},
   "outputs": [],
   "source": [
    "imgs=[]\n",
    "imgs.append(img)\n",
    "imgs.append(img_1)"
   ]
  },
  {
   "cell_type": "code",
   "execution_count": 36,
   "metadata": {},
   "outputs": [
    {
     "name": "stdout",
     "output_type": "stream",
     "text": [
      "CORREL :  1.0\n",
      "CHISQR :  0.0\n",
      "INTERSECT :  1.0000000215066365\n",
      "BHATTACHARYYA :  1.0536712127723509e-08\n"
     ]
    }
   ],
   "source": [
    "hists = []\n",
    "\n",
    "for img in imgs:\n",
    "    hsv = cv2.cvtColor(img, cv2.COLOR_BGR2HSV)\n",
    "    hist = cv2.calcHist([hsv],[0,2],None,[256,256],[0,256,0,256])\n",
    "    cv2.normalize(hist,hist,0,1,cv2.NORM_MINMAX)\n",
    "    hists.append(hist)\n",
    "    \n",
    "\n",
    "for method in range(0,4):\n",
    "    query = hists[0]\n",
    "    ret = cv2.compareHist(query, hists[1], method)\n",
    "\n",
    "    if method == 2:\n",
    "        ret = ret/np.sum(query)\n",
    "        \n",
    "    # if  ret == 1:\n",
    "    #     print('Same Image')\n",
    "    # else:\n",
    "    #     print('Different Image')\n",
    "        \n",
    "    print(method_list[method],': ',ret)"
   ]
  },
  {
   "attachments": {},
   "cell_type": "markdown",
   "metadata": {},
   "source": [
    "`2. 다른 이미지 비교`"
   ]
  },
  {
   "cell_type": "code",
   "execution_count": 37,
   "metadata": {},
   "outputs": [],
   "source": [
    "img2 = cv2.imread('./image/retriever.jpg', cv2.IMREAD_COLOR)\n",
    "img2 = cv2.resize(img2, (256,256))\n",
    "\n",
    "cv2.imshow('img2',img2)\n",
    "cv2.waitKey(0)\n",
    "cv2.destroyAllWindows()"
   ]
  },
  {
   "cell_type": "code",
   "execution_count": 38,
   "metadata": {},
   "outputs": [],
   "source": [
    "imgs=[]\n",
    "imgs.append(img)\n",
    "imgs.append(img2)"
   ]
  },
  {
   "cell_type": "code",
   "execution_count": 39,
   "metadata": {},
   "outputs": [
    {
     "name": "stdout",
     "output_type": "stream",
     "text": [
      "CORREL :  0.2600563847367985\n",
      "CHISQR :  1140.7529755824055\n",
      "INTERSECT :  0.14029878472975638\n",
      "BHATTACHARYYA :  0.6953021410993739\n"
     ]
    }
   ],
   "source": [
    "hists = []\n",
    "\n",
    "for img in imgs:\n",
    "    hsv = cv2.cvtColor(img, cv2.COLOR_BGR2HSV)\n",
    "    hist = cv2.calcHist([hsv],[0,2],None,[256,256],[0,256,0,256])\n",
    "    cv2.normalize(hist,hist,0,1,cv2.NORM_MINMAX)\n",
    "    hists.append(hist)\n",
    "    \n",
    "for method in range(0,4):\n",
    "    query = hists[0]\n",
    "    ret = cv2.compareHist(query, hists[1], method)\n",
    "\n",
    "    if method == 2:\n",
    "        ret = ret/np.sum(query)\n",
    "        \n",
    "    # if  ret == 1:\n",
    "    #     print('Same Image')\n",
    "    # else:\n",
    "    #     print('Different Image')\n",
    "        \n",
    "    print(method_list[method],': ',ret)"
   ]
  }
 ],
 "metadata": {
  "kernelspec": {
   "display_name": "2023DIP",
   "language": "python",
   "name": "python3"
  },
  "language_info": {
   "codemirror_mode": {
    "name": "ipython",
    "version": 3
   },
   "file_extension": ".py",
   "mimetype": "text/x-python",
   "name": "python",
   "nbconvert_exporter": "python",
   "pygments_lexer": "ipython3",
   "version": "3.7.16"
  },
  "orig_nbformat": 4
 },
 "nbformat": 4,
 "nbformat_minor": 2
}
